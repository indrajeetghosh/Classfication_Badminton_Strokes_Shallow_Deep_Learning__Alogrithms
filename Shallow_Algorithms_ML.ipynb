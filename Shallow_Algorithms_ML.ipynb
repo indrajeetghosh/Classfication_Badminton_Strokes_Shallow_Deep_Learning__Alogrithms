{
 "cells": [
  {
   "cell_type": "code",
   "execution_count": null,
   "metadata": {
    "ExecuteTime": {
     "end_time": "2020-05-14T02:56:21.746963Z",
     "start_time": "2020-05-14T02:56:20.727104Z"
    }
   },
   "outputs": [],
   "source": [
    "import os\n",
    "import pandas as pd\n",
    "import numpy as np\n",
    "import time\n",
    "from scipy import stats\n",
    "from sklearn import preprocessing\n",
    "from sklearn.model_selection import train_test_split\n",
    "from sklearn import svm\n",
    "from sklearn.metrics import accuracy_score\n",
    "from sklearn.metrics import classification_report\n",
    "from sklearn.metrics import confusion_matrix\n",
    "from sklearn import svm\n",
    "from sklearn.neural_network import MLPClassifier\n",
    "from sklearn.model_selection import KFold\n",
    "from sklearn import tree\n",
    "from sklearn.ensemble import RandomForestClassifier\n",
    "from sklearn.naive_bayes import GaussianNB \n",
    "import itertools\n",
    "from matplotlib import pyplot as plt\n",
    "from sklearn.decomposition import PCA\n",
    "from sklearn.neighbors import KNeighborsClassifier\n",
    "from sklearn.manifold import TSNE\n",
    "import signal\n",
    "import scipy \n",
    "from sklearn.svm import SVC \n",
    "from sklearn.model_selection import ShuffleSplit\n",
    "import matplotlib as mpl\n",
    "from matplotlib.colors import ListedColormap\n",
    "from sklearn.discriminant_analysis import LinearDiscriminantAnalysis\n",
    "from sklearn.preprocessing import LabelEncoder\n",
    "import seaborn as sns"
   ]
  },
  {
   "cell_type": "code",
   "execution_count": null,
   "metadata": {},
   "outputs": [],
   "source": [
    "mpl.rcParams['lines.linewidth'] = 4\n",
    "mpl.rcParams['lines.color'] = 'r'\n",
    "mpl.rcParams['font.weight'] = 200\n",
    "plt.style.use('seaborn-whitegrid')\n",
    "plt.rc('figure',figsize=(11,6))\n",
    "mpl.axes.Axes.annotate\n",
    "mpl.rcParams['axes.labelsize'] = 20\n",
    "mpl.rcParams['axes.linewidth'] = 4\n",
    "mpl.rcParams['xtick.labelsize'] = 20\n",
    "mpl.rcParams['ytick.labelsize'] = 20\n",
    "mpl.rcParams['axes.edgecolor'] = 'black'\n",
    "mpl.rcParams['axes.titlesize'] = 20\n",
    "mpl.rcParams['legend.fontsize'] = 14"
   ]
  },
  {
   "cell_type": "code",
   "execution_count": null,
   "metadata": {
    "ExecuteTime": {
     "end_time": "2020-05-13T20:27:02.297807Z",
     "start_time": "2020-05-13T20:27:02.281770Z"
    }
   },
   "outputs": [],
   "source": [
    "def plot_confusion_matrix (cm, classes, normalize=False,title='Confusion matrix',cmap=plt.cm.Greens):\n",
    "    if normalize:\n",
    "        cm = cm.astype('float') / cm.sum(axis=1)[:, np.newaxis]\n",
    "\n",
    "    plt.figure(figsize=(10,10))\n",
    "    plt.grid(b=False)    \n",
    "    plt.imshow(cm, interpolation='nearest', cmap=cmap)\n",
    "    plt.title(title)\n",
    "    plt.colorbar()\n",
    "    tick_marks = np.arange(len(classes))\n",
    "    plt.xticks(tick_marks, classes, rotation=90)\n",
    "    plt.yticks(tick_marks, classes)\n",
    "\n",
    "    fmt = '.1f' if normalize else 'd'\n",
    "    thresh = cm.max() / 2.\n",
    "    for i, j in itertools.product(range(cm.shape[0]), range(cm.shape[1])):\n",
    "        plt.text(j, i, format(cm[i, j], fmt),\n",
    "                 horizontalalignment=\"center\",\n",
    "                 color=\"white\" if cm[i, j] > thresh else \"black\")\n",
    "\n",
    "    plt.tight_layout()\n",
    "    plt.ylabel('True label')\n",
    "    plt.xlabel('Predicted label')"
   ]
  },
  {
   "cell_type": "markdown",
   "metadata": {},
   "source": [
    "# Upload your Dataset"
   ]
  },
  {
   "cell_type": "code",
   "execution_count": null,
   "metadata": {},
   "outputs": [],
   "source": [
    "#training_data=upload your dataset"
   ]
  },
  {
   "cell_type": "markdown",
   "metadata": {},
   "source": [
    "# Median Filter"
   ]
  },
  {
   "cell_type": "code",
   "execution_count": null,
   "metadata": {
    "ExecuteTime": {
     "end_time": "2020-05-01T01:38:07.156494Z",
     "start_time": "2020-05-01T01:36:47.837756Z"
    }
   },
   "outputs": [],
   "source": [
    "training_data = scipy.signal.medfilt(training_data, kernel_size=3)"
   ]
  },
  {
   "cell_type": "code",
   "execution_count": null,
   "metadata": {
    "ExecuteTime": {
     "end_time": "2020-05-01T01:38:07.171144Z",
     "start_time": "2020-05-01T01:38:07.159492Z"
    }
   },
   "outputs": [],
   "source": [
    "Y=training_label.reshape(training_label.shape[0])"
   ]
  },
  {
   "cell_type": "markdown",
   "metadata": {},
   "source": [
    "# Visualization - No. of Datapoints"
   ]
  },
  {
   "cell_type": "code",
   "execution_count": null,
   "metadata": {
    "ExecuteTime": {
     "end_time": "2019-11-17T18:32:47.399541Z",
     "start_time": "2019-11-17T18:32:46.910015Z"
    },
    "scrolled": false
   },
   "outputs": [],
   "source": [
    "fig = plt.figure(figsize=(9,6))\n",
    "training_Label.value_counts().plot(kind='bar',fontsize=14,width=0.8)\n",
    "plt.plot(linewidth=10)\n",
    "plt.title('Activity',fontsize=18,fontweight='bold')\n",
    "plt.ylim(0,12000)\n",
    "plt.xticks(rotation=90)\n",
    "plt.ylabel('Data Instances',fontsize=14,fontweight='bold')\n",
    "plt.xlabel('Classes',fontsize=14,fontweight='bold')\n",
    "fig.savefig('datapoint.jpg', bbox_inches='tight', pad_inches=0)"
   ]
  },
  {
   "cell_type": "code",
   "execution_count": null,
   "metadata": {
    "ExecuteTime": {
     "end_time": "2019-11-18T14:18:58.153370Z",
     "start_time": "2019-11-18T14:18:57.561287Z"
    }
   },
   "outputs": [],
   "source": [
    "fig = plt.figure(figsize=(12,9))\n",
    "ax = training_Label.value_counts().plot(kind='bar',fontsize=14,width=0.7);\n",
    "plt.plot(linewidth=30)\n",
    "plt.title('Activity',fontsize=18,fontweight='bold')\n",
    "plt.ylim(0,12000)\n",
    "plt.xticks(rotation=90)\n",
    "plt.ylabel('Data Instances',fontsize=14,fontweight='bold')\n",
    "plt.xlabel('Classes',fontsize=14,fontweight='bold')\n",
    "totals = []\n",
    "for i in ax.patches:\n",
    "    totals.append(i.get_height())\n",
    "\n",
    "total = sum(totals)\n",
    "\n",
    "for i in ax.patches:\n",
    "    ax.text(i.get_x()-.04, i.get_height()+80, \n",
    "            str(round((i.get_height()/total)*100, 1))+'%', fontsize=15,fontweight='bold',\n",
    "                color='dimgrey') \n",
    "fig.savefig('datapoint.jpg', bbox_inches='tight', pad_inches=0)    "
   ]
  },
  {
   "cell_type": "markdown",
   "metadata": {},
   "source": [
    "# Preprocessing"
   ]
  },
  {
   "cell_type": "code",
   "execution_count": null,
   "metadata": {
    "ExecuteTime": {
     "end_time": "2020-05-14T02:56:36.498725Z",
     "start_time": "2020-05-14T02:56:36.466251Z"
    }
   },
   "outputs": [],
   "source": [
    "label_encoder = LabelEncoder()\n",
    "integer_encoded = label_encoder.fit_transform(training_label)"
   ]
  },
  {
   "cell_type": "code",
   "execution_count": null,
   "metadata": {
    "ExecuteTime": {
     "end_time": "2020-05-14T02:56:37.502044Z",
     "start_time": "2020-05-14T02:56:37.474149Z"
    }
   },
   "outputs": [],
   "source": [
    "y = label_encoder.transform(training_label)"
   ]
  },
  {
   "cell_type": "code",
   "execution_count": null,
   "metadata": {
    "ExecuteTime": {
     "end_time": "2020-05-14T02:56:38.679145Z",
     "start_time": "2020-05-14T02:56:38.673587Z"
    }
   },
   "outputs": [],
   "source": [
    "X = training_data.reshape(training_data.shape[0],-1)"
   ]
  },
  {
   "cell_type": "code",
   "execution_count": null,
   "metadata": {
    "ExecuteTime": {
     "end_time": "2020-05-14T02:56:39.649949Z",
     "start_time": "2020-05-14T02:56:39.644259Z"
    }
   },
   "outputs": [],
   "source": [
    "x = testing_data.reshape(testing_data.shape[0],-1)"
   ]
  },
  {
   "cell_type": "code",
   "execution_count": null,
   "metadata": {
    "ExecuteTime": {
     "end_time": "2020-05-12T17:47:20.846486Z",
     "start_time": "2020-05-12T17:47:20.565516Z"
    }
   },
   "outputs": [],
   "source": [
    "X_train, X_test, y_train, y_test = train_test_split(X,y ,test_size=0.2, random_state=3)"
   ]
  },
  {
   "cell_type": "code",
   "execution_count": null,
   "metadata": {
    "ExecuteTime": {
     "end_time": "2020-04-30T17:41:00.954110Z",
     "start_time": "2020-04-30T17:41:00.951319Z"
    }
   },
   "outputs": [],
   "source": [
    "accuracy_scores = np.zeros(4)"
   ]
  },
  {
   "cell_type": "code",
   "execution_count": null,
   "metadata": {
    "ExecuteTime": {
     "end_time": "2020-05-01T01:38:07.300708Z",
     "start_time": "2020-05-01T01:38:07.290533Z"
    }
   },
   "outputs": [],
   "source": [
    "target_names = # Classes_Names\n",
    "        "
   ]
  },
  {
   "cell_type": "markdown",
   "metadata": {},
   "source": [
    "# LDA Feature Extraction"
   ]
  },
  {
   "cell_type": "code",
   "execution_count": null,
   "metadata": {
    "ExecuteTime": {
     "end_time": "2020-05-14T03:29:45.271639Z",
     "start_time": "2020-05-14T03:29:28.212377Z"
    }
   },
   "outputs": [],
   "source": [
    "lda = LinearDiscriminantAnalysis(n_components=13)\n",
    "\n",
    "# run an LDA and use it to transform the features\n",
    "X_lda = lda.fit(X, y).transform(X)\n",
    "print('Original number of features:', X.shape[1])\n",
    "print('Reduced number of features:', X_lda.shape[1])"
   ]
  },
  {
   "cell_type": "code",
   "execution_count": null,
   "metadata": {
    "ExecuteTime": {
     "end_time": "2020-05-14T03:29:59.889842Z",
     "start_time": "2020-05-14T03:29:45.274093Z"
    }
   },
   "outputs": [],
   "source": [
    "lda = LinearDiscriminantAnalysis(n_components=13)\n",
    "\n",
    "# run an LDA and use it to transform the features\n",
    "x_lda = lda.fit(x, Y).transform(x)\n",
    "print('Original number of features:', x.shape[1])\n",
    "print('Reduced number of features:', x_lda.shape[1])"
   ]
  },
  {
   "cell_type": "code",
   "execution_count": null,
   "metadata": {
    "ExecuteTime": {
     "end_time": "2020-05-14T03:30:15.705723Z",
     "start_time": "2020-05-14T03:30:15.698699Z"
    }
   },
   "outputs": [],
   "source": [
    "# Define your own label_dict\n",
    "\n",
    "#label_dict = {1: 'Setosa', 2: 'Versicolor', 3:'Virginica'}"
   ]
  },
  {
   "cell_type": "code",
   "execution_count": null,
   "metadata": {
    "ExecuteTime": {
     "end_time": "2020-05-14T03:31:39.592252Z",
     "start_time": "2020-05-14T03:31:38.663272Z"
    }
   },
   "outputs": [],
   "source": [
    "def plot_step_lda():\n",
    "    fig = plt.figure(figsize=(24,10))\n",
    "    plt.style.use('seaborn-whitegrid')\n",
    "    plt.rcParams['axes.edgecolor'] = 'black'\n",
    "    mpl.rcParams['lines.linewidth'] = 5\n",
    "    #ax = plt.subplot(111)\n",
    "    for label,marker,color in zip(\n",
    "        range(1,13),('^', 's', 'o','.','8','p','h','H','D','X','d','*'),('blue', 'red', 'green','black','yellow', 'cyan', 'green','black','lightblue', 'lightsalmon', 'lightgreen','magenta')):\n",
    "        plt.scatter(x=x_lda[:,0].real[Y == label],\n",
    "                y=x_lda[:,1].real[Y == label],\n",
    "                marker=marker,\n",
    "                color=color,\n",
    "                alpha=0.9,\n",
    "                label=label_dict[label]\n",
    "                )\n",
    "\n",
    "    plt.xlabel('LD1', fontsize=22,fontweight='bold')\n",
    "    plt.ylabel('LD2', fontsize=22,fontweight='bold')\n",
    "\n",
    "    leg = plt.legend(loc='upper right', fancybox=True, prop={'weight':'bold','size': 10})\n",
    "    leg.get_frame().set_alpha(0.5)\n",
    "    #plt.title('LDA: Badminton dataset projection onto the linear discriminants',fontsize=15,  fontweight='bold')\n",
    "\n",
    "    # hide axis ticks\n",
    "    plt.tick_params(  bottom=\"off\", top=\"off\",  \n",
    "            labelbottom=\"on\", left=\"off\", right=\"off\", labelleft=\"on\",labelsize=21)\n",
    "\n",
    "    plt.tight_layout\n",
    "    plt.show()\n",
    "\n",
    "plot_step_lda()"
   ]
  },
  {
   "cell_type": "code",
   "execution_count": null,
   "metadata": {
    "ExecuteTime": {
     "end_time": "2020-05-14T03:31:31.444572Z",
     "start_time": "2020-05-14T03:31:30.513494Z"
    }
   },
   "outputs": [],
   "source": [
    "def plot_step_lda():\n",
    "    fig = plt.figure(figsize=(24,10))\n",
    "    plt.style.use('seaborn-whitegrid')\n",
    "    plt.rcParams['axes.edgecolor'] = 'black'\n",
    "    mpl.rcParams['lines.linewidth'] = 5\n",
    "    #ax = plt.subplot(111)\n",
    "    for label,marker,color in zip(\n",
    "        range(1,13),('^', 's', 'o','.','8','p','h','H','D','X','d','*'),('blue', 'red', 'green','black','yellow', 'cyan', 'green','black','lightblue', 'lightsalmon', 'lightgreen','magenta')):\n",
    "        plt.scatter(x=X_lda[:,0].real[y == label],\n",
    "                y=X_lda[:,1].real[y == label],\n",
    "                marker=marker,\n",
    "                color=color,\n",
    "                alpha=0.9,\n",
    "                label=label_dict[label]\n",
    "                )\n",
    "\n",
    "    plt.xlabel('LD1', fontsize=22,fontweight='bold')\n",
    "    plt.ylabel('LD2', fontsize=22,fontweight='bold')\n",
    "\n",
    "    leg = plt.legend(loc='upper right', fancybox=True, prop={'weight':'bold','size': 10})\n",
    "    leg.get_frame().set_alpha(0.5)\n",
    "    #plt.title('LDA: Badminton dataset projection onto the linear discriminants',fontsize=15,  fontweight='bold')\n",
    "\n",
    "    # hide axis ticks\n",
    "    plt.tick_params(  bottom=\"off\", top=\"off\",  \n",
    "            labelbottom=\"on\", left=\"off\", right=\"off\", labelleft=\"on\",labelsize=21)\n",
    "\n",
    "    plt.tight_layout\n",
    "    plt.show()\n",
    "\n",
    "plot_step_lda()"
   ]
  },
  {
   "cell_type": "code",
   "execution_count": null,
   "metadata": {
    "ExecuteTime": {
     "end_time": "2020-05-13T18:06:28.338380Z",
     "start_time": "2020-05-13T18:06:28.325980Z"
    }
   },
   "outputs": [],
   "source": [
    "X_Reduced, X_Test_Reduced, Y_Reduced, Y_Test_Reduced = train_test_split(X_lda, y, \n",
    "                                                                        test_size=0.2, random_state=3)"
   ]
  }
  {
   "cell_type": "markdown",
   "metadata": {},
   "source": [
    "# PCA Feature Extraction"
   ]
  },
  {
   "cell_type": "code",
   "execution_count": null,
   "metadata": {
    "ExecuteTime": {
     "end_time": "2020-05-14T03:30:26.271354Z",
     "start_time": "2020-05-14T03:30:24.335116Z"
    }
   },
   "outputs": [],
   "source": [
    "pca = PCA(n_components=13)\n",
    "X_pca = pca.fit_transform(X)"
   ]
  },
  {
   "cell_type": "code",
   "execution_count": null,
   "metadata": {
    "ExecuteTime": {
     "end_time": "2020-05-14T03:30:27.636829Z",
     "start_time": "2020-05-14T03:30:26.272926Z"
    }
   },
   "outputs": [],
   "source": [
    "pca = PCA(n_components=13)\n",
    "x_pca = pca.fit_transform(x)"
   ]
  },
  {
   "cell_type": "code",
   "execution_count": null,
   "metadata": {
    "ExecuteTime": {
     "end_time": "2020-05-14T03:31:26.853685Z",
     "start_time": "2020-05-14T03:31:25.956946Z"
    }
   },
   "outputs": [],
   "source": [
    "def plot_pca():\n",
    "    fig = plt.figure(figsize=(24,10))\n",
    "    plt.style.use('seaborn-whitegrid')\n",
    "    plt.rcParams['axes.edgecolor'] = 'black'\n",
    "    mpl.rcParams['lines.linewidth'] = 5\n",
    "    #ax = plt.subplot(111)\n",
    "    for label,marker,color in zip(\n",
    "        range(1,13),('^', 's', 'o','.','8','p','h','H','D','X','d','*'),('blue', 'red', 'green','black','yellow', 'cyan', 'green','black','lightblue', 'lightsalmon', 'lightgreen','magenta')):\n",
    "\n",
    "        plt.scatter(x=X_pca[:,0][y == label],\n",
    "                y=X_pca[:,1][y == label],\n",
    "                marker=marker,\n",
    "                color=color,\n",
    "                alpha=0.9,\n",
    "                label=label_dict[label]\n",
    "                )\n",
    "\n",
    "    plt.xlabel('PC1',fontsize=22,fontweight='bold')\n",
    "    plt.ylabel('PC2',fontsize=22,fontweight='bold')\n",
    "\n",
    "    leg = plt.legend(loc='upper left', fancybox=True , prop={'weight':'bold','size': 10})\n",
    "    leg.get_frame().set_alpha(0.5)\n",
    "    #plt.title('PCA: Badminton dataset projection onto the first 13 principal components')\n",
    "\n",
    "    # hide axis ticks\n",
    "    plt.tick_params(axis=\"both\", which=\"both\", bottom=\"off\", top=\"off\",  \n",
    "            labelbottom=\"on\", left=\"off\", right=\"off\", labelleft=\"on\" , labelsize='21')\n",
    "\n",
    "    # remove axis spines\n",
    "    #ax.spines[\"top\"].set_visible(False)  \n",
    "    #ax.spines[\"right\"].set_visible(False)\n",
    "    #ax.spines[\"bottom\"].set_visible(False)\n",
    "    #ax.spines[\"left\"].set_visible(False)    \n",
    "\n",
    "    plt.tight_layout\n",
    "    #plt.grid()\n",
    "    #fig.savefig('PCA.jpg', bbox_inches='tight', pad_inches=0)\n",
    "    plt.show()\n",
    "plot_pca()    \n"
   ]
  },
  {
   "cell_type": "code",
   "execution_count": null,
   "metadata": {
    "ExecuteTime": {
     "end_time": "2020-05-14T03:31:06.048406Z",
     "start_time": "2020-05-14T03:31:05.248169Z"
    },
    "scrolled": false
   },
   "outputs": [],
   "source": [
    "def plot_pca():\n",
    "    fig = plt.figure(figsize=(24,10))\n",
    "    plt.style.use('seaborn-whitegrid')\n",
    "    plt.rcParams['axes.edgecolor'] = 'black'\n",
    "    mpl.rcParams['lines.linewidth'] = 5\n",
    "    #ax = plt.subplot(111)\n",
    "    for label,marker,color in zip(\n",
    "        range(1,13),('^', 's', 'o','.','8','p','h','H','D','X','d','*'),('blue', 'red', 'green','black','yellow', 'cyan', 'green','black','lightblue', 'lightsalmon', 'lightgreen','magenta')):\n",
    "\n",
    "        plt.scatter(x=x_pca[:,0][Y == label],\n",
    "                y=x_pca[:,1][Y == label],\n",
    "                marker=marker,\n",
    "                color=color,\n",
    "                alpha=0.9,\n",
    "                label=label_dict[label]\n",
    "                )\n",
    "\n",
    "    plt.xlabel('PC1',fontsize=22,fontweight='bold')\n",
    "    plt.ylabel('PC2',fontsize=22,fontweight='bold')\n",
    "\n",
    "    leg = plt.legend(loc='upper left', fancybox=True , prop={'weight':'bold','size': 10})\n",
    "    leg.get_frame().set_alpha(0.5)\n",
    "    #plt.title('PCA: Badminton dataset projection onto the first 13 principal components')\n",
    "\n",
    "    # hide axis ticks\n",
    "    plt.tick_params(axis=\"both\", which=\"both\", bottom=\"off\", top=\"off\",  \n",
    "            labelbottom=\"on\", left=\"off\", right=\"off\", labelleft=\"on\" , labelsize='21')\n",
    "\n",
    "    # remove axis spines\n",
    "    #ax.spines[\"top\"].set_visible(False)  \n",
    "    #ax.spines[\"right\"].set_visible(False)\n",
    "    #ax.spines[\"bottom\"].set_visible(False)\n",
    "    #ax.spines[\"left\"].set_visible(False)    \n",
    "\n",
    "    plt.tight_layout\n",
    "    #plt.grid()\n",
    "    #fig.savefig('PCA.jpg', bbox_inches='tight', pad_inches=0)\n",
    "    plt.show()\n",
    "plot_pca()    \n"
   ]
  },
  {
   "cell_type": "code",
   "execution_count": null,
   "metadata": {
    "ExecuteTime": {
     "end_time": "2020-04-30T18:49:19.456040Z",
     "start_time": "2020-04-30T18:49:17.348182Z"
    },
    "scrolled": false
   },
   "outputs": [],
   "source": [
    "plot_pca()\n",
    "plot_step_lda()"
   ]
  },
  {
   "cell_type": "code",
   "execution_count": null,
   "metadata": {
    "ExecuteTime": {
     "end_time": "2020-04-30T00:16:37.311652Z",
     "start_time": "2020-04-30T00:16:37.308239Z"
    }
   },
   "outputs": [],
   "source": [
    "pca.explained_variance_ratio_"
   ]
  },
  {
   "cell_type": "markdown",
   "metadata": {},
   "source": [
    "# Classifiers"
   ]
  },
  {
   "cell_type": "code",
   "execution_count": null,
   "metadata": {
    "ExecuteTime": {
     "end_time": "2020-04-30T00:20:37.687910Z",
     "start_time": "2020-04-30T00:16:37.333496Z"
    },
    "scrolled": true
   },
   "outputs": [],
   "source": [
    "cm_cmap=plt.cm.Greens\n",
    "\n",
    "clf =  MLPClassifier().fit(X_train, y_train)\n",
    "prediction = clf.predict(X_test)\n",
    "accuracy_scores[0] = accuracy_score(y_test, prediction)*100\n",
    "cm = metrics.confusion_matrix(y_test, prediction)\n",
    "plt.figure(figsize=(8,8))\n",
    "plt.grid(b=False)\n",
    "plot_confusion_matrix(cm, classes=target_names, normalize=True, title='Normalized confusion matrix', cmap = cm_cmap)\n",
    "report = metrics.classification_report(y_test, prediction, target_names=target_names)\n",
    "#df = pd.DataFrame(report).transpose()\n",
    "#df.to_csv('Classification_Report_MLP_Sreeni_Dataset.csv')\n",
    "print(' MLPClassifier Accuracy: {}%'.format(accuracy_scores[0]))\n",
    "#cm.numpy.genfromtxt('C:/localpath/test.csv', delimiter=',')\n",
    "#plt.savefig('Confusion_Matrix_MLP_Participant_Hand_and_Palm_Dataset',transparent=True, bbox_inches='tight', pad_inches=0)\n",
    "print(report)\n",
    "\n",
    "gnb = GaussianNB()\n",
    "clf =  gnb.fit(X_train, y_train)\n",
    "prediction = clf.predict(X_test)\n",
    "accuracy_scores[0] = accuracy_score(y_test, prediction)*100\n",
    "cm = metrics.confusion_matrix(y_test,prediction)\n",
    "plt.figure(figsize=(8,8))\n",
    "plt.grid(b=False)\n",
    "plot_confusion_matrix(cm, classes=target_names, normalize=True, title='Normalized confusion matrix', cmap = cm_cmap)\n",
    "report = metrics.classification_report(y_test, prediction, target_names=target_names)\n",
    "#df = pd.DataFrame(report).transpose()\n",
    "#df.to_csv('Classification_Report_NB_Sreeni_Dataset.csv')\n",
    "print(' Naive Bayes Classifier Accuracy : {}%'.format(accuracy_scores[0]))\n",
    "#plt.savefig('Confusion_Matrix_Naive_Bayes_Participant_Hand_and_Palm_Dataset',transparent=True, bbox_inches='tight', pad_inches=0)\n",
    "print(report)\n",
    "\n",
    "\n",
    "clf = RandomForestClassifier().fit(X_train, y_train)\n",
    "prediction = clf.predict(X_test)\n",
    "accuracy_scores[0] = accuracy_score(y_test, prediction)*100\n",
    "cm = metrics.confusion_matrix(y_test, prediction)\n",
    "plt.figure(figsize=(8,8))\n",
    "plt.grid(b=False)\n",
    "plot_confusion_matrix(cm, classes=target_names, normalize=True, title='Normalized confusion matrix', cmap = cm_cmap)\n",
    "report = metrics.classification_report(y_test, prediction, target_names=target_names)\n",
    "#df = pd.DataFrame(report).transpose()\n",
    "#df.to_csv('Classification_Report_RF_Sreeni_Dataset.csv')\n",
    "print('Random Forest Classifier Accuracy: {}%'.format(accuracy_scores[0]))\n",
    "#plt.savefig('Confusion_Matrix_RF_Participant_Hand_and_Palm_Dataset',transparent=True, bbox_inches='tight', pad_inches=0)\n",
    "print(report)\n",
    "\n",
    "\n",
    "clf =  tree.DecisionTreeClassifier().fit(X_train, y_train)\n",
    "prediction = clf.predict(X_test)\n",
    "accuracy_scores[0] = accuracy_score(y_test, prediction)*100\n",
    "cm = metrics.confusion_matrix(y_test, prediction)\n",
    "plt.figure(figsize=(8,8))\n",
    "plt.grid(b=False)\n",
    "plot_confusion_matrix(cm, classes=target_names, normalize=True, title='Normalized confusion matrix', cmap = cm_cmap)\n",
    "report = metrics.classification_report(y_test, prediction, target_names=target_names)\n",
    "#df = pd.DataFrame(report).transpose()\n",
    "#df.to_csv('Classification_Report_DT_Sreeni_Dataset.csv')\n",
    "print(' Decision Tree Classifier Accuracy: {}%'.format(accuracy_scores[0]))\n",
    "#plt.savefig('Confusion_Matrix_DT_Participant_Hand_and_Palm_Dataset',transparent=True, bbox_inches='tight', pad_inches=0)\n",
    "print(report)\n",
    "\n",
    "clf = SVC(kernel = 'linear').fit(X_train, y_train)\n",
    "#clf = SVC(kernel='rbf', random_state=0, gamma=1, C=1).fit(X_train, y_train) \n",
    "prediction = clf.predict(X_test) \n",
    "accuracy_scores[0] = accuracy_score(y_test, prediction)*100\n",
    "cm = metrics.confusion_matrix(y_test, prediction)\n",
    "plt.figure(figsize=(8,8))\n",
    "plt.grid(b=False)\n",
    "plot_confusion_matrix(cm, classes=target_names, normalize=True, title='Normalized confusion matrix', cmap = cm_cmap)\n",
    "report = metrics.classification_report(y_test, prediction, target_names=target_names)\n",
    "#df = pd.DataFrame(report).transpose()\n",
    "#df.to_csv('Classification_Report_MLP_Sreeni_Dataset.csv')\n",
    "print('  SVM MulitclassClassifier Accuracy: {}%'.format(accuracy_scores[0]))\n",
    "#cm.numpy.genfromtxt('C:/localpath/test.csv', delimiter=',')\n",
    "#plt.savefig('Confusion_Matrix_SVM_Linear_Participant_Hand_and_Palm_Dataset',transparent=True, bbox_inches='tight', pad_inches=0)\n",
    "print(report)\n",
    "\n",
    "clf = SVC(kernel = 'rbf').fit(X_train, y_train)\n",
    "#clf = SVC(kernel='rbf', random_state=0, gamma=1, C=1).fit(X_train, y_train) \n",
    "prediction = clf.predict(X_test) \n",
    "accuracy_scores[0] = accuracy_score(y_test, prediction)*100\n",
    "cm = metrics.confusion_matrix(y_test, prediction)\n",
    "plt.figure(figsize=(8,8))\n",
    "plt.grid(b=False)\n",
    "plot_confusion_matrix(cm, classes=target_names, normalize=True, title='Normalized confusion matrix', cmap = cm_cmap)\n",
    "report = metrics.classification_report(y_test, prediction, target_names=target_names)\n",
    "#df = pd.DataFrame(report).transpose()\n",
    "#df.to_csv('Classification_Report_MLP_Sreeni_Dataset.csv')\n",
    "print('  SVM RBF MulitclassClassifier Accuracy: {}%'.format(accuracy_scores[0]))\n",
    "#cm.numpy.genfromtxt('C:/localpath/test.csv', delimiter=',')\n",
    "#plt.savefig('Confusion_Matrix_SVM_RBF_Participant_Hand_and_Palm_Dataset',transparent=True, bbox_inches='tight', pad_inches=0)\n",
    "print(report)"
   ]
  },
  {
   "cell_type": "code",
   "execution_count": null,
   "metadata": {
    "ExecuteTime": {
     "end_time": "2020-05-14T02:19:31.923391Z",
     "start_time": "2020-05-14T01:06:08.756071Z"
    },
    "scrolled": true
   },
   "outputs": [],
   "source": [
    "time_start = time.time()\n",
    "tsne = TSNE(n_components=2, verbose=1, perplexity=10, n_iter=250)\n",
    "X_tsne = tsne.fit_transform(X)\n",
    "print('t-SNE done! Time elapsed: {} seconds'.format(time.time()-time_start))"
   ]
  },
  {
   "cell_type": "code",
   "execution_count": null,
   "metadata": {
    "ExecuteTime": {
     "end_time": "2020-05-14T03:24:04.449987Z",
     "start_time": "2020-05-14T02:56:55.447087Z"
    },
    "scrolled": true
   },
   "outputs": [],
   "source": [
    "time_start = time.time()\n",
    "tsne = TSNE(n_components=2, verbose=1, perplexity=10, n_iter=250)\n",
    "x_tsne = tsne.fit_transform(x)\n",
    "print('t-SNE done! Time elapsed: {} seconds'.format(time.time()-time_start))"
   ]
  },
  {
   "cell_type": "code",
   "execution_count": null,
   "metadata": {
    "ExecuteTime": {
     "end_time": "2020-05-14T03:28:31.499018Z",
     "start_time": "2020-05-14T03:28:29.306963Z"
    }
   },
   "outputs": [],
   "source": [
    "sns.set(rc={'figure.figsize':(11.7,8.27)})\n",
    "palette = sns.color_palette(\"bright\", 9)\n",
    "sns.scatterplot(x=x_tsne[:,0], y=x_tsne[:,1],\n",
    "            hue = Y,\n",
    "            alpha=0.9,\n",
    "            #legend='full',\n",
    "            palette=palette\n",
    "                )\n",
    "\n"
   ]
  },
  {
   "cell_type": "code",
   "execution_count": null,
   "metadata": {},
   "outputs": [],
   "source": []
  }
 ],
 "metadata": {
  "kernelspec": {
   "display_name": "Python 3",
   "language": "python",
   "name": "python3"
  },
  "language_info": {
   "codemirror_mode": {
    "name": "ipython",
    "version": 3
   },
   "file_extension": ".py",
   "mimetype": "text/x-python",
   "name": "python",
   "nbconvert_exporter": "python",
   "pygments_lexer": "ipython3",
   "version": "3.6.8"
  },
  "toc": {
   "base_numbering": 1,
   "nav_menu": {},
   "number_sections": true,
   "sideBar": true,
   "skip_h1_title": false,
   "title_cell": "Table of Contents",
   "title_sidebar": "Contents",
   "toc_cell": false,
   "toc_position": {},
   "toc_section_display": true,
   "toc_window_display": false
  }
 },
 "nbformat": 4,
 "nbformat_minor": 2
}
