{
 "cells": [
  {
   "cell_type": "code",
   "execution_count": null,
   "metadata": {
    "ExecuteTime": {
     "end_time": "2020-07-14T04:57:08.085124Z",
     "start_time": "2020-07-14T04:57:05.623274Z"
    }
   },
   "outputs": [],
   "source": [
    "import warnings\n",
    "warnings.filterwarnings('ignore')\n",
    "\n",
    "import pandas as pd\n",
    "import numpy as np\n",
    "import matplotlib.pyplot as plt\n",
    "import os\n",
    "import itertools\n",
    "from random import randrange\n",
    "from sklearn import preprocessing\n",
    "from sklearn.model_selection import train_test_split\n",
    "from sklearn.metrics import accuracy_score\n",
    "from sklearn.metrics import classification_report\n",
    "from sklearn.model_selection import cross_val_score\n",
    "from sklearn.preprocessing import OneHotEncoder\n",
    "from sklearn.preprocessing import LabelEncoder\n",
    "from sklearn.metrics import confusion_matrix\n",
    "\n",
    "%matplotlib inline\n",
    "import seaborn as sns; sns.set()\n",
    "seed = 5\n",
    "import matplotlib.pyplot as plt\n",
    "matplotlib.style.use('ggplot')\n",
    "import seaborn\n",
    "\n",
    "from collections import Counter\n",
    "from tensorflow.keras import datasets, layers, models, optimizers\n",
    "from tensorflow.keras.models import Sequential\n",
    "import tensorflow.math \n",
    "from tensorflow.keras.layers import Dense , Conv1D, LSTM, MaxPooling1D, Flatten, Dropout, BatchNormalization,AveragePooling1D"
   ]
  },
  {
   "cell_type": "markdown",
   "metadata": {},
   "source": [
    "# Upload your Raw data "
   ]
  },
  {
   "cell_type": "markdown",
   "metadata": {},
   "source": [
    "# Preprocessing"
   ]
  },
  {
   "cell_type": "markdown",
   "metadata": {},
   "source": [
    "## One-Hot-Encoding for the labels"
   ]
  },
  {
   "cell_type": "code",
   "execution_count": null,
   "metadata": {
    "ExecuteTime": {
     "end_time": "2020-07-14T04:57:13.340906Z",
     "start_time": "2020-07-14T04:57:13.304843Z"
    }
   },
   "outputs": [],
   "source": [
    "label_encoder = LabelEncoder()\n",
    "integer_encoded = label_encoder.fit_transform(training_label)\n",
    "integer_encoded_testing = label_encoder.fit_transform(testing_label)\n",
    "#print(integer_encoded)\n",
    "\n",
    "onehot_encoder = OneHotEncoder(sparse=False)\n",
    "integer_encoded = integer_encoded.reshape(len(integer_encoded), 1)\n",
    "integer_encoded_testing = integer_encoded_testing.reshape(len(integer_encoded_testing), 1)\n",
    "training_label_encoded = onehot_encoder.fit_transform(integer_encoded)\n",
    "testing_label_encoded = onehot_encoder.fit_transform(integer_encoded_testing)"
   ]
  },
  {
   "cell_type": "markdown",
   "metadata": {
    "ExecuteTime": {
     "end_time": "2019-11-07T05:56:49.404951Z",
     "start_time": "2019-11-07T05:56:36.558Z"
    }
   },
   "source": [
    "# Define Parameters "
   ]
  },
  {
   "cell_type": "code",
   "execution_count": null,
   "metadata": {
    "ExecuteTime": {
     "end_time": "2020-07-14T04:57:15.017226Z",
     "start_time": "2020-07-14T04:57:14.672816Z"
    },
    "run_control": {
     "marked": false
    }
   },
   "outputs": [],
   "source": [
    "numOfRows = training_data.shape[1]\n",
    "numOfColumns = training_data.shape[2]\n",
    "numClasses = training_label_encoded.shape[1]\n",
    "poolingWindowSz = 4\n",
    "reshapedSegments = training_data.reshape(training_data.shape[0], numOfRows, numOfColumns)\n",
    "X_train, X_test, y_train, y_test = train_test_split(reshapedSegments,training_label_encoded ,test_size=0.2, random_state=3)"
   ]
  },
  {
   "cell_type": "markdown",
   "metadata": {},
   "source": [
    "## Model Building"
   ]
  },
  {
   "cell_type": "code",
   "execution_count": null,
   "metadata": {
    "ExecuteTime": {
     "end_time": "2020-07-14T04:57:17.874820Z",
     "start_time": "2020-07-14T04:57:17.859830Z"
    }
   },
   "outputs": [],
   "source": [
    "def model():\n",
    "    model = Sequential()\n",
    "    model.add(Conv1D(128,40,input_shape=(numOfRows, numOfColumns),activation='relu'))\n",
    "    model.add(Dropout(0.60))\n",
    "    model.add(Conv1D(200,25,input_shape=(numOfRows, numOfColumns),activation='relu'))\n",
    "    model.add(Dropout(0.65))\n",
    "    model.add(Flatten())\n",
    "    model.add(Dense(128, activation='relu'))\n",
    "    model.add(Dropout(0.65))\n",
    "    model.add(Dense(numClasses, activation='softmax'))\n",
    "    learning_rate = 0.0003\n",
    "    decay_rate = learning_rate / 300\n",
    "    momentum = 0.99\n",
    "    sgd = optimizers.SGD(lr=learning_rate, momentum=momentum, decay=decay_rate, nesterov=False)\n",
    "    model.compile(optimizer=sgd, loss='categorical_crossentropy', metrics=['accuracy'])\n",
    "    return model"
   ]
  },
  {
   "cell_type": "markdown",
   "metadata": {},
   "source": [
    "## Training the Model"
   ]
  },
  {
   "cell_type": "code",
   "execution_count": null,
   "metadata": {
    "ExecuteTime": {
     "end_time": "2020-07-14T04:58:23.926941Z",
     "start_time": "2020-07-14T04:58:13.796181Z"
    },
    "scrolled": true
   },
   "outputs": [],
   "source": [
    "model = model()\n",
    "history = model.fit(X_train,y_train,epochs=100,batch_size=64,validation_split=0.25)"
   ]
  },
  {
   "cell_type": "code",
   "execution_count": null,
   "metadata": {
    "ExecuteTime": {
     "end_time": "2019-12-24T16:17:53.630401Z",
     "start_time": "2019-12-24T16:17:52.990Z"
    }
   },
   "outputs": [],
   "source": [
    "np.mean(history.history['acc'][290:300])"
   ]
  },
  {
   "cell_type": "code",
   "execution_count": null,
   "metadata": {
    "ExecuteTime": {
     "end_time": "2019-12-24T16:17:53.631321Z",
     "start_time": "2019-12-24T16:17:53.563Z"
    }
   },
   "outputs": [],
   "source": [
    "np.mean(history.history['val_acc'][290:300])"
   ]
  },
  {
   "cell_type": "code",
   "execution_count": null,
   "metadata": {
    "ExecuteTime": {
     "end_time": "2019-12-24T16:17:54.143201Z",
     "start_time": "2019-12-24T16:17:54.109725Z"
    }
   },
   "outputs": [],
   "source": [
    "y_pred_test = model.predict(X_test)"
   ]
  },
  {
   "cell_type": "code",
   "execution_count": null,
   "metadata": {
    "ExecuteTime": {
     "end_time": "2019-12-24T03:36:03.603611Z",
     "start_time": "2019-12-24T03:36:03.588164Z"
    },
    "run_control": {
     "marked": false
    }
   },
   "outputs": [],
   "source": [
    "max_y_pred_test = np.argmax(y_pred_test, axis=1)\n",
    "max_y_test = np.argmax(y_test, axis=1)\n",
    "cm = metrics.confusion_matrix(max_y_test, max_y_pred_test)"
   ]
  },
  {
   "cell_type": "code",
   "execution_count": null,
   "metadata": {
    "ExecuteTime": {
     "end_time": "2019-12-24T03:36:03.611321Z",
     "start_time": "2019-12-24T03:36:03.605636Z"
    }
   },
   "outputs": [],
   "source": [
    "np.histogram(max_y_pred_test)"
   ]
  },
  {
   "cell_type": "code",
   "execution_count": null,
   "metadata": {
    "ExecuteTime": {
     "end_time": "2019-12-24T03:36:03.623546Z",
     "start_time": "2019-12-24T03:36:03.613268Z"
    }
   },
   "outputs": [],
   "source": [
    "y_test[0,:]"
   ]
  },
  {
   "cell_type": "code",
   "execution_count": null,
   "metadata": {
    "ExecuteTime": {
     "end_time": "2019-12-24T03:36:03.637191Z",
     "start_time": "2019-12-24T03:36:03.627261Z"
    }
   },
   "outputs": [],
   "source": [
    "print(accuracy_score(max_y_test, max_y_pred_test))"
   ]
  },
  {
   "cell_type": "code",
   "execution_count": null,
   "metadata": {},
   "outputs": [],
   "source": [
    "target_names = # list class names in your dataset"
   ]
  },
  {
   "cell_type": "code",
   "execution_count": null,
   "metadata": {
    "ExecuteTime": {
     "end_time": "2019-11-21T18:47:44.172001Z",
     "start_time": "2019-11-21T18:47:42.692544Z"
    }
   },
   "outputs": [],
   "source": [
    "cm_cmap=plt.cm.Greens\n",
    "cm = metrics.confusion_matrix(max_y_test, max_y_pred_test)\n",
    "plt.figure(figsize=(8,8))\n",
    "plt.ylabel('True Label',fontsize=14,fontweight='bold')\n",
    "plt.xlabel('Predicted Label',fontsize=14,fontweight='bold')\n",
    "plt.grid(b=False)\n",
    "plot_confusion_matrix(cm, classes=target_names, normalize=True, title='Normalized confusion matrix', cmap = cm_cmap)"
   ]
  },
  {
   "cell_type": "code",
   "execution_count": null,
   "metadata": {
    "ExecuteTime": {
     "end_time": "2019-11-21T13:11:57.322328Z",
     "start_time": "2019-11-21T13:11:57.315283Z"
    }
   },
   "outputs": [],
   "source": [
    "report = metrics.classification_report(max_y_test, max_y_pred_test, target_names=target_names)\n",
    "print(report)"
   ]
  },
  {
   "cell_type": "code",
   "execution_count": null,
   "metadata": {
    "ExecuteTime": {
     "end_time": "2019-11-17T03:31:24.802147Z",
     "start_time": "2019-11-17T03:31:24.788068Z"
    }
   },
   "outputs": [],
   "source": [
    "history.history.keys()"
   ]
  },
  {
   "cell_type": "code",
   "execution_count": null,
   "metadata": {
    "ExecuteTime": {
     "end_time": "2019-12-24T03:36:04.116053Z",
     "start_time": "2019-12-24T03:36:03.639466Z"
    }
   },
   "outputs": [],
   "source": [
    "fig = plt.figure(figsize=(10,6))\n",
    "plt.plot(history.history['acc'],linewidth=3.5)\n",
    "plt.plot(history.history['val_acc'],linewidth=3.5)\n",
    "plt.title('Model accuracy',fontsize=15)\n",
    "plt.ylabel('Accuracy',fontsize=15)\n",
    "plt.xlabel('Epoch',fontsize=15)\n",
    "plt.ylim([0,1.0])\n",
    "plt.legend(['Train Accuracy', 'Validation Accuracy'], loc='upper left',fontsize=13)\n",
    "plt.show()\n",
    "plt.close(fig)\n",
    "\n",
    "\n",
    "fig = plt.figure(figsize=(10,6))\n",
    "plt.plot(history.history['loss'],linewidth=3.5)\n",
    "plt.plot(history.history['val_loss'],linewidth=3.5)\n",
    "plt.title('Model loss',fontsize=15)\n",
    "plt.ylabel('Loss',fontsize=15)\n",
    "plt.xlabel('Epoch',fontsize=15)\n",
    "plt.ylim([0, 4.0])\n",
    "plt.legend(['Train', 'Validation'], loc='upper left',fontsize=13)\n",
    "plt.show()                                                                                                                                                                                                                                                                                                                                                                                                                                                                                                                                                                                                                                                                                                                                                                           \n",
    "plt.close(fig)\n"
   ]
  },
  {
   "cell_type": "code",
   "execution_count": null,
   "metadata": {},
   "outputs": [],
   "source": []
  }
 ],
 "metadata": {
  "kernelspec": {
   "display_name": "Python 3",
   "language": "python",
   "name": "python3"
  },
  "language_info": {
   "codemirror_mode": {
    "name": "ipython",
    "version": 3
   },
   "file_extension": ".py",
   "mimetype": "text/x-python",
   "name": "python",
   "nbconvert_exporter": "python",
   "pygments_lexer": "ipython3",
   "version": "3.6.8"
  },
  "toc": {
   "base_numbering": 1,
   "nav_menu": {},
   "number_sections": true,
   "sideBar": true,
   "skip_h1_title": false,
   "title_cell": "Table of Contents",
   "title_sidebar": "Contents",
   "toc_cell": false,
   "toc_position": {},
   "toc_section_display": true,
   "toc_window_display": false
  }
 },
 "nbformat": 4,
 "nbformat_minor": 2
}
